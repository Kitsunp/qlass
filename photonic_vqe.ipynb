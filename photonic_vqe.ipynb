{
 "cells": [
  {
   "cell_type": "code",
   "execution_count": 1,
   "metadata": {},
   "outputs": [],
   "source": [
    "from typing import List, Tuple, Dict, Union\n",
    "from helper_functions import *\n",
    "import perceval.components as comp\n",
    "\n",
    "mzi = comp.BS() // (0, comp.PS(pcvl.Parameter(\"phi1\"))) // comp.BS() // (0, comp.PS(pcvl.Parameter(\"phi2\")))"
   ]
  },
  {
   "cell_type": "markdown",
   "metadata": {},
   "source": [
    "## Photonic VQE simulations using a parametrized unitary or Qiskit circuits"
   ]
  },
  {
   "cell_type": "markdown",
   "metadata": {},
   "source": [
    "In the following cell we define a function that generates arbitrary two qubit unitaries given the parameters. This can be used in a VQE simulation to find ground states of two qubit Hamiltonians.\n",
    "One can also use a custom function that generates a unitary according to some custom noise model."
   ]
  },
  {
   "cell_type": "code",
   "execution_count": 2,
   "metadata": {},
   "outputs": [
    {
     "data": {
      "text/plain": [
       "(4.44110372192683e-16, True)"
      ]
     },
     "execution_count": 2,
     "metadata": {},
     "output_type": "execute_result"
    }
   ],
   "source": [
    "import numpy as np\n",
    "from scipy.linalg import expm\n",
    "import numpy as np\n",
    "from scipy.linalg import sqrtm\n",
    "\n",
    "# Pauli matrices and identity\n",
    "sigma_0 = np.eye(2, dtype=complex)  # Identity matrix\n",
    "sigma_1 = np.array([[0, 1], [1, 0]], dtype=complex)\n",
    "sigma_2 = np.array([[0, -1j], [1j, 0]], dtype=complex)\n",
    "sigma_3 = np.array([[1, 0], [0, -1]], dtype=complex)\n",
    "\n",
    "# List of Pauli matrices (including identity)\n",
    "paulis = [sigma_0, sigma_1, sigma_2, sigma_3]\n",
    "\n",
    "def construct_unitary_from_parameters(params):\n",
    "    \"\"\"\n",
    "    Constructs a 4x4 unitary matrix from 16 real parameters using the basis Γ(i, j) = σ_i ⊗ σ_j.\n",
    "\n",
    "    Args:\n",
    "        params (list or np.ndarray): A list or array of 16 real parameters.\n",
    "\n",
    "    Returns:\n",
    "        np.ndarray: A 4x4 unitary matrix.\n",
    "    \"\"\"\n",
    "    if len(params) != 16:\n",
    "        raise ValueError(f\"Exactly 16 parameters are required, but {len(params)} were given.\")\n",
    "    \n",
    "    # Reshape the parameters into a 4x4 grid for easier indexing\n",
    "    params_grid = np.array(params).reshape(4, 4)\n",
    "    \n",
    "    # Initialize the 4x4 Hermitian matrix\n",
    "    H = np.zeros((4, 4), dtype=complex)\n",
    "    \n",
    "    # Construct the Hermitian matrix H = sum_{i,j} d(i,j) Γ(i,j)\n",
    "    for i in range(4):\n",
    "        for j in range(4):\n",
    "            # Compute Γ(i,j) = σ_i ⊗ σ_j\n",
    "            gamma_ij = np.kron(paulis[i], paulis[j])\n",
    "            # Add the term d(i,j) * Γ(i,j) to H\n",
    "            H += params_grid[i, j] * gamma_ij\n",
    "    \n",
    "    # Construct the unitary matrix U = exp(iH)\n",
    "    U = expm(1j * H)\n",
    "    \n",
    "    return U\n",
    "\n",
    "def check_unitarity(U, tolerance=1e-10):\n",
    "    \"\"\"Check if a matrix is unitary within given tolerance\"\"\"\n",
    "    I = np.eye(U.shape[0], dtype=U.dtype)\n",
    "    UHU = U.conj().T @ U\n",
    "    max_diff = np.max(np.abs(UHU - I))\n",
    "    return max_diff, max_diff < tolerance\n",
    "\n",
    "U = construct_unitary_from_parameters(np.random.rand(16))\n",
    "check_unitarity(U)"
   ]
  },
  {
   "cell_type": "markdown",
   "metadata": {},
   "source": [
    "We use executors to obtain samples from eiter a quantum simulator of quantum hardware, just like how we use executors in Mitiq. This makes things considerably more modular."
   ]
  },
  {
   "cell_type": "code",
   "execution_count": 10,
   "metadata": {},
   "outputs": [
    {
     "data": {
      "text/plain": [
       "[|0,0,1,1>,\n",
       " |0,2,0,0>,\n",
       " |2,0,0,0>,\n",
       " |0,1,1,0>,\n",
       " |0,1,1,0>,\n",
       " |1,0,0,1>,\n",
       " |0,2,0,0>,\n",
       " |0,0,0,2>,\n",
       " |1,0,1,0>,\n",
       " |0,0,0,2>]"
      ]
     },
     "execution_count": 10,
     "metadata": {},
     "output_type": "execute_result"
    }
   ],
   "source": [
    "#Executor for a two qubit unitary.\n",
    "def executor(lp, pauli_string):\n",
    "\n",
    "    params = np.concatenate((np.random.rand(11), lp))\n",
    "    num_qubits = len(pauli_string)\n",
    "\n",
    "    unitary = construct_unitary_from_parameters(params)\n",
    "    M = pcvl.Matrix(unitary)\n",
    "    ansatz = pcvl.Circuit.decomposition(M, mzi, shape=pcvl.InterferometerShape.TRIANGLE)\n",
    "    ansatz_rot = rotate_qubits(pauli_string, ansatz.copy())\n",
    "    processor = pcvl.Processor(pcvl.NaiveBackend(), ansatz_rot)\n",
    "    \n",
    "    processor.with_input(pcvl.BasicState([0,1]*num_qubits))\n",
    "\n",
    "    sampler = Sampler(processor)\n",
    "    samples = sampler.samples(100_000)\n",
    "\n",
    "    return samples\n",
    "executor(np.random.rand(5), 'II')['results'][:10]"
   ]
  },
  {
   "cell_type": "markdown",
   "metadata": {},
   "source": [
    "In the following cell, we have a few Hamiltonians from the Hydrogen atom that we can use to simulate our VQE."
   ]
  },
  {
   "cell_type": "code",
   "execution_count": 4,
   "metadata": {},
   "outputs": [],
   "source": [
    "Hamiltonian_elem = np.array([[[0,0,0,0],[0,0,0,0],[0,0,0,0],[0,0,0,0]],    #00\n",
    "                             [[1,0,0,0],[0,1,0,0],[0,0,1,0],[0,0,0,1]],    #II\n",
    "                             [[0,1,0,0],[1,0,0,0],[0,0,0,1],[0,0,1,0]],    #IX\n",
    "                             [[1,0,0,0],[0,-1,0,0],[0,0,1,0],[0,0,0,-1]],  #IZ\n",
    "                             [[0,0,1,0],[0,0,0,1],[1,0,0,0],[0,1,0,0]],    #XI\n",
    "                             [[0,0,0,1],[0,0,1,0],[0,1,0,0],[1,0,0,0]],    #XX\n",
    "                             [[0,0,1,0],[0,0,0,-1],[1,0,0,0],[0,-1,0,0]],  #XZ\n",
    "                             [[1,0,0,0],[0,1,0,0],[0,0,-1,0],[0,0,0,-1]],  #ZI\n",
    "                             [[0,1,0,0],[1,0,0,0],[0,0,0,-1],[0,0,-1,0]],  #ZX\n",
    "                             [[1,0,0,0],[0,-1,0,0],[0,0,-1,0],[0,0,0,1]]]) #ZZ\n",
    "\n",
    "\n",
    "Hamiltonian_coef = np.matrix(\n",
    "# [R, II, IX, IZ, XI, XX, XZ, ZI, ZX, ZZ]\n",
    "[[0.05,33.9557,-0.1515,-2.4784,-0.1515,0.1412,0.1515,-2.4784,0.1515,0.2746],\n",
    "[0.1,13.3605,-0.1626,-2.4368,-0.1626,0.2097,0.1626,-2.4368,0.1626,0.2081],\n",
    "[0.15,6.8232,-0.1537,-2.3801,-0.1537,0.2680,0.1537,-2.3801,0.1537,0.1512],\n",
    "[0.2,3.6330,-0.1405,-2.2899,-0.1405,0.3027,0.1405,-2.2899,0.1405,0.1176],\n",
    "[0.25,1.7012,-0.1324,-2.1683,-0.1324,0.3211,0.1324,-2.1683,0.1324,0.1010],\n",
    "[0.3,0.3821,-0.1306,-2.0305,-0.1306,0.3303,0.1306,-2.0305,0.1306,0.0943],\n",
    "[0.35,-0.5810,-0.1335,-1.8905,-0.1335,0.3344,0.1335,-1.8905,0.1335,0.0936],\n",
    "[0.4,-1.3119,-0.1396,-1.7568,-0.1396,0.3352,0.1396,-1.7568,0.1396,0.0969],\n",
    "[0.45,-1.8796,-0.1477,-1.6339,-0.1477,0.3339,0.1477,-1.6339,0.1477,0.1030],\n",
    "[0.5,-2.3275,-0.1570,-1.5236,-0.1570,0.3309,0.1570,-1.5236,0.1570,0.1115],\n",
    "[0.55,-2.6844,-0.1669,-1.4264,-0.1669,0.3264,0.1669,-1.4264,0.1669,0.1218],\n",
    "[0.6,-2.9708,-0.1770,-1.3418,-0.1770,0.3206,0.1770,-1.3418,0.1770,0.1339],\n",
    "[0.65,-3.2020,-0.1871,-1.2691,-0.1871,0.3135,0.1871,-1.2691,0.1871,0.1475],\n",
    "[0.7,-3.3893,-0.1968,-1.2073,-0.1968,0.3052,0.1968,-1.2073,0.1968,0.1626],\n",
    "[0.75,-3.5417,-0.2060,-1.1552,-0.2060,0.2958,0.2060,-1.1552,0.2060,0.1791],\n",
    "[0.8,-3.6660,-0.2145,-1.1117,-0.2145,0.2853,0.2145,-1.1117,0.2145,0.1968],\n",
    "[0.85,-3.7675,-0.2222,-1.0758,-0.2222,0.2738,0.2222,-1.0758,0.2222,0.2157],\n",
    "[0.9,-3.8505,-0.2288,-1.0466,-0.2288,0.2613,0.2288,-1.0466,0.2288,0.2356],\n",
    "[0.95,-3.9183,-0.2343,-1.0233,-0.2343,0.2481,0.2343,-1.0233,0.2343,0.2564],\n",
    "[1,-3.9734,-0.2385,-1.0052,-0.2385,0.2343,0.2385,-1.0052,0.2385,0.2779],\n",
    "[1.05,-4.0180,-0.2414,-0.9916,-0.2414,0.2199,0.2414,-0.9916,0.2414,0.3000],\n",
    "[1.1,-4.0539,-0.2430,-0.9820,-0.2430,0.2053,0.2430,-0.9820,0.2430,0.3225],\n",
    "[1.15,-4.0825,-0.2431,-0.9758,-0.2431,0.1904,0.2431,-0.9758,0.2431,0.3451],\n",
    "[1.2,-4.1050,-0.2418,-0.9725,-0.2418,0.1756,0.2418,-0.9725,0.2418,0.3678],\n",
    "[1.25,-4.1224,-0.2392,-0.9716,-0.2392,0.1610,0.2392,-0.9716,0.2392,0.3902],\n",
    "[1.3,-4.1356,-0.2353,-0.9728,-0.2353,0.1466,0.2353,-0.9728,0.2353,0.4123],\n",
    "[1.35,-4.1454,-0.2301,-0.9757,-0.2301,0.1327,0.2301,-0.9757,0.2301,0.4339],\n",
    "[1.4,-4.1523,-0.2239,-0.9798,-0.2239,0.1194,0.2239,-0.9798,0.2239,0.4549],\n",
    "[1.45,-4.1568,-0.2167,-0.9850,-0.2167,0.1068,0.2167,-0.9850,0.2167,0.4751],\n",
    "[1.5,-4.1594,-0.2086,-0.9910,-0.2086,0.0948,0.2086,-0.9910,0.2086,0.4945],\n",
    "[1.55,-4.1605,-0.1998,-0.9975,-0.1998,0.0837,0.1998,-0.9975,0.1998,0.5129],\n",
    "[1.6,-4.1602,-0.1905,-1.0045,-0.1905,0.0734,0.1905,-1.0045,0.1905,0.5304],\n",
    "[1.65,-4.1589,-0.1807,-1.0116,-0.1807,0.0640,0.1807,-1.0116,0.1807,0.5468],\n",
    "[1.7,-4.1568,-0.1707,-1.0189,-0.1707,0.0555,0.1707,-1.0189,0.1707,0.5622],\n",
    "[1.75,-4.1540,-0.1605,-1.0262,-0.1605,0.0479,0.1605,-1.0262,0.1605,0.5766],\n",
    "[1.8,-4.1508,-0.1503,-1.0334,-0.1503,0.0410,0.1503,-1.0334,0.1503,0.5899],\n",
    "[1.85,-4.1471,-0.1403,-1.0404,-0.1403,0.0350,0.1403,-1.0404,0.1403,0.6023],\n",
    "[1.9,-4.1431,-0.1305,-1.0473,-0.1305,0.0297,0.1305,-1.0473,0.1305,0.6138],\n",
    "[1.95,-4.1390,-0.1210,-1.0540,-0.1210,0.0251,0.1210,-1.0540,0.1210,0.6244],\n",
    "[2,-4.1347,-0.1119,-1.0605,-0.1119,0.0212,0.1119,-1.0605,0.1119,0.6342],\n",
    "[2.05,-4.1303,-0.1031,-1.0667,-0.1031,0.0178,0.1031,-1.0667,0.1031,0.6432],\n",
    "[2.1,-4.1258,-0.0949,-1.0727,-0.0949,0.0148,0.0949,-1.0727,0.0949,0.6516],\n",
    "[2.15,-4.1214,-0.0871,-1.0785,-0.0871,0.0124,0.0871,-1.0785,0.0871,0.6594],\n",
    "[2.2,-4.1169,-0.0797,-1.0840,-0.0797,0.0103,0.0797,-1.0840,0.0797,0.6666],\n",
    "[2.25,-4.1125,-0.0729,-1.0893,-0.0729,0.0085,0.0729,-1.0893,0.0729,0.6733],\n",
    "[2.3,-4.1082,-0.0665,-1.0944,-0.0665,0.0070,0.0665,-1.0944,0.0665,0.6796],\n",
    "[2.35,-4.1040,-0.0606,-1.0993,-0.0606,0.0058,0.0606,-1.0993,0.0606,0.6854],\n",
    "[2.4,-4.0998,-0.0551,-1.1040,-0.0551,0.0047,0.0551,-1.1040,0.0551,0.6909],\n",
    "[2.45,-4.0957,-0.0500,-1.1085,-0.0500,0.0039,0.0500,-1.1085,0.0500,0.6961],\n",
    "[2.5,-4.0918,-0.0454,-1.1128,-0.0454,0.0032,0.0454,-1.1128,0.0454,0.7010],\n",
    "[2.55,-4.0879,-0.0411,-1.1170,-0.0411,0.0026,0.0411,-1.1170,0.0411,0.7056],\n",
    "[2.6,-4.0841,-0.0371,-1.1210,-0.0371,0.0021,0.0371,-1.1210,0.0371,0.7099],\n",
    "[2.65,-4.0805,-0.0335,-1.1248,-0.0335,0.0017,0.0335,-1.1248,0.0335,0.7141],\n",
    "[2.7,-4.0769,-0.0303,-1.1285,-0.0303,0.0014,0.0303,-1.1285,0.0303,0.7181],\n",
    "[2.75,-4.0735,-0.0273,-1.1321,-0.0273,0.0011,0.0273,-1.1321,0.0273,0.7218],\n",
    "[2.8,-4.0701,-0.0245,-1.1356,-0.0245,0.0009,0.0245,-1.1356,0.0245,0.7254],\n",
    "[2.85,-4.0669,-0.0221,-1.1389,-0.0221,0.0007,0.0221,-1.1389,0.0221,0.7289],\n",
    "[2.9,-4.0638,-0.0198,-1.1421,-0.0198,0.0006,0.0198,-1.1421,0.0198,0.7322],\n",
    "[2.95,-4.0607,-0.0178,-1.1452,-0.0178,0.0005,0.0178,-1.1452,0.0178,0.7354],\n",
    "[3,-4.0578,-0.0159,-1.1482,-0.0159,0.0004,0.0159,-1.1482,0.0159,0.7385],\n",
    "[3.05,-4.0549,-0.0142,-1.1511,-0.0142,0.0003,0.0142,-1.1511,0.0142,0.7414],\n",
    "[3.1,-4.0521,-0.0127,-1.1539,-0.0127,0.0002,0.0127,-1.1539,0.0127,0.7443],\n",
    "[3.15,-4.0494,-0.0114,-1.1566,-0.0114,0.0002,0.0114,-1.1566,0.0114,0.7470],\n",
    "[3.2,-4.0468,-0.0101,-1.1592,-0.0101,0.0001,0.0101,-1.1592,0.0101,0.7497],\n",
    "[3.25,-4.0443,-0.0090,-1.1618,-0.0090,0.0001,0.0090,-1.1618,0.0090,0.7522],\n",
    "[3.3,-4.0418,-0.0081,-1.1643,-0.0081,0.0001,0.0081,-1.1643,0.0081,0.7547],\n",
    "[3.35,-4.0394,-0.0072,-1.1666,-0.0072,0.0001,0.0072,-1.1666,0.0072,0.7571],\n",
    "[3.4,-4.0371,-0.0064,-1.1690,-0.0064,0.0001,0.0064,-1.1690,0.0064,0.7595],\n",
    "[3.45,-4.0349,-0.0056,-1.1712,-0.0056,0.0000,0.0056,-1.1712,0.0056,0.7617],\n",
    "[3.5,-4.0327,-0.0050,-1.1734,-0.0050,0.0000,0.0050,-1.1734,0.0050,0.7639],\n",
    "[3.55,-4.0306,-0.0044,-1.1756,-0.0044,0.0000,0.0044,-1.1756,0.0044,0.7661],\n",
    "[3.6,-4.0285,-0.0039,-1.1776,-0.0039,0.0000,0.0039,-1.1776,0.0039,0.7681],\n",
    "[3.65,-4.0265,-0.0035,-1.1796,-0.0035,0.0000,0.0035,-1.1796,0.0035,0.7702],\n",
    "[3.7,-4.0245,-0.0030,-1.1816,-0.0030,0.0000,0.0030,-1.1816,0.0030,0.7721],\n",
    "[3.75,-4.0226,-0.0027,-1.1835,-0.0027,0.0000,0.0027,-1.1835,0.0027,0.7740],\n",
    "[3.8,-4.0208,-0.0024,-1.1854,-0.0024,0.0000,0.0024,-1.1854,0.0024,0.7759],\n",
    "[3.85,-4.0190,-0.0021,-1.1872,-0.0021,0.0000,0.0021,-1.1872,0.0021,0.7777],\n",
    "[3.9,-4.0172,-0.0018,-1.1889,-0.0018,0.0000,0.0018,-1.1889,0.0018,0.7795],\n",
    "[3.95,-4.0155,-0.0016,-1.1906,-0.0016,0.0000,0.0016,-1.1906,0.0016,0.7812]]\n",
    ")\n",
    "\n",
    "# Building the Hamiltonian H[0] = Radius, H[1] = H(Radius)\n",
    "H1 = []\n",
    "(n,m) = Hamiltonian_coef.shape\n",
    "for i in range(n):  # i = Radius\n",
    "    h_0 = 1.0 * np.matrix(Hamiltonian_elem[0])\n",
    "    for j in range(1, m):\n",
    "        h_0 += Hamiltonian_coef[i,j] * np.matrix(Hamiltonian_elem[j])\n",
    "    H1.append([Hamiltonian_coef[i,0], h_0])\n",
    "\n",
    "H = H1\n",
    "\n",
    "E1_th = []\n",
    "for h in H:\n",
    "    l0 = np.linalg.eigvals(h[1])\n",
    "    l0.sort()\n",
    "    E1_th.append(min(l0))\n",
    "    \n",
    "\n",
    "def hamiltonian_dictionary(h: np.ndarray) -> Dict[str, float]:\n",
    "    \"\"\"\n",
    "    Convert a 2-qubit Hamiltonian from array form to a dictionary.\n",
    "\n",
    "    Args:\n",
    "    h (np.ndarray): 2-qubit Hamiltonian in array form\n",
    "\n",
    "    Returns:\n",
    "    Dict[str, float]: Dictionary with Pauli string keys and coefficient values\n",
    "    \"\"\"\n",
    "    pauli_strings = [\"II\", \"IX\", \"IZ\", \"XI\", \"XX\", \"XZ\", \"ZI\", \"ZX\", \"ZZ\"]\n",
    "    return dict(zip(pauli_strings, h))"
   ]
  },
  {
   "cell_type": "markdown",
   "metadata": {},
   "source": [
    "We can now start the VQE simulation"
   ]
  },
  {
   "cell_type": "code",
   "execution_count": 5,
   "metadata": {},
   "outputs": [
    {
     "name": "stderr",
     "output_type": "stream",
     "text": [
      "100%|██████████| 23/23 [17:54<00:00, 46.73s/it]\n"
     ]
    }
   ],
   "source": [
    "from tqdm import tqdm\n",
    "import matplotlib.pyplot as plt\n",
    "from scipy.optimize import minimize\n",
    "\n",
    "radius1 = []\n",
    "E1 = []\n",
    "init_param = []\n",
    "\n",
    "H = H1\n",
    "num_ham = len(H)\n",
    "\n",
    "for R in tqdm(range(5, 50, 2)):  # We try to find the ground state eigenvalue for each radius R\n",
    "\n",
    "    h = np.array(Hamiltonian_coef[R])[0][1:]\n",
    "    H = hamiltonian_dictionary(h)\n",
    "    radius1.append(np.array(Hamiltonian_coef[R])[0][0])\n",
    "    \n",
    "    initial_params = np.random.rand(5)\n",
    "\n",
    "    # Finding the ground state eigen value for each H(R)\n",
    "    result = minimize(loss_function, initial_params, args=(H, executor), method='COBYLA', options={'maxiter': 30})\n",
    "    # print(f'number of function evaluations: {result.nfev}')\n",
    "    E1.append(result.get('fun'))\n"
   ]
  },
  {
   "cell_type": "code",
   "execution_count": 6,
   "metadata": {},
   "outputs": [
    {
     "data": {
      "image/png": "[encoded data removed]",
      "text/plain": [
       "<Figure size 640x480 with 1 Axes>"
      ]
     },
     "metadata": {},
     "output_type": "display_data"
    },
    {
     "name": "stdout",
     "output_type": "stream",
     "text": [
      "The minimum energy is E_g(2.4)=-6.13987130628031 MJ/mol and is attained for R_min =2.4 pm\n"
     ]
    }
   ],
   "source": [
    "plt.plot(100*np.array(radius1), np.array(E1_th)[range(5, 50, 2)],'orange')\n",
    "plt.plot(100*np.array(radius1), E1,'x')\n",
    "# plt.axis([50,250,-5.8,-5.5])\n",
    "plt.ylabel('Energy (MJ/mol)')\n",
    "plt.xlabel('Atomic separation R (pm)')\n",
    "\n",
    "plt.legend(['Theoretical eigenvalues', 'Eigenvalues computed with Perceval'])\n",
    "\n",
    "plt.show()\n",
    "\n",
    "min_value=min(E1)\n",
    "min_index = E1.index(min_value)\n",
    "print('The minimum energy is E_g('+str(radius1[min_index])+')='+str(E1[min_index])+' MJ/mol and is attained for R_min ='+str(radius1[min_index])+' pm')"
   ]
  },
  {
   "cell_type": "markdown",
   "metadata": {},
   "source": [
    "This is the VQE simulation but now we use Qiskit circuits instead."
   ]
  },
  {
   "cell_type": "code",
   "execution_count": 11,
   "metadata": {},
   "outputs": [],
   "source": [
    "from perceval.converters import QiskitConverter\n",
    "from qiskit import transpile\n",
    "from qiskit.circuit.library import TwoLocal\n",
    "qiskit_converter = QiskitConverter(catalog, backend_name=\"Naive\")\n",
    "\n",
    "#Executor for a two qubit qiskit ansatz.\n",
    "def executor(lp, pauli_string):\n",
    "\n",
    "    num_qubits = len(pauli_string)\n",
    "    ansatz = TwoLocal(num_qubits, 'ry', 'cx', reps=1)\n",
    "\n",
    "    ansatz_assigned = ansatz.assign_parameters(lp)\n",
    "    ansatz_assigned = transpile(ansatz_assigned, basis_gates=['u1', 'u2', 'u3', 'cx'], optimization_level=3)\n",
    "\n",
    "    ansatz_rot = rotate_qubits(pauli_string, ansatz_assigned.copy())\n",
    "    processor = qiskit_converter.convert(ansatz_rot, use_postselection=True)  \n",
    "    processor.with_input(pcvl.LogicalState([0]*num_qubits))\n",
    "\n",
    "    sampler = Sampler(processor)\n",
    "    samples = sampler.samples(100_000)\n",
    "\n",
    "    return samples"
   ]
  },
  {
   "cell_type": "code",
   "execution_count": 12,
   "metadata": {},
   "outputs": [
    {
     "name": "stderr",
     "output_type": "stream",
     "text": [
      "100%|██████████| 23/23 [13:46<00:00, 35.92s/it]\n"
     ]
    }
   ],
   "source": [
    "radius1 = []\n",
    "E1_qiskit = []\n",
    "init_param = []\n",
    "\n",
    "H = H1\n",
    "num_ham = len(H)\n",
    "num_qubits = 2\n",
    "\n",
    "for R in tqdm(range(5, 50, 2)):  # We try to find the ground state eigenvalue for each radius R\n",
    "\n",
    "    h = np.array(Hamiltonian_coef[R])[0][1:]\n",
    "    H = hamiltonian_dictionary(h)\n",
    "    radius1.append(np.array(Hamiltonian_coef[R])[0][0])\n",
    "    \n",
    "    initial_params = np.random.rand(2*num_qubits)\n",
    "\n",
    "    # Finding the ground state eigen value for each H(R)\n",
    "    result = minimize(loss_function, initial_params, args=(H, executor), method='COBYLA', options={'maxiter': 20})\n",
    "    # print(f'number of function evaluations: {result.nfev}')\n",
    "    E1_qiskit.append(result.get('fun'))"
   ]
  },
  {
   "cell_type": "code",
   "execution_count": 13,
   "metadata": {},
   "outputs": [
    {
     "data": {
      "image/png": "[encoded data removed]",
      "text/plain": [
       "<Figure size 640x480 with 1 Axes>"
      ]
     },
     "metadata": {},
     "output_type": "display_data"
    },
    {
     "name": "stdout",
     "output_type": "stream",
     "text": [
      "The minimum energy is E_g(0.9)=-5.721865983999999 MJ/mol and is attained for R_min =0.9 pm\n"
     ]
    }
   ],
   "source": [
    "plt.plot(100*np.array(radius1), np.array(E1_th)[range(5, 50, 2)],'orange')\n",
    "plt.plot(100*np.array(radius1), E1_qiskit,'x')\n",
    "# plt.axis([50,250,-5.8,-5.5])\n",
    "plt.ylabel('Energy (MJ/mol)')\n",
    "plt.xlabel('Atomic separation R (pm)')\n",
    "\n",
    "plt.legend(['Theoretical eigenvalues', 'Eigenvalues computed with Perceval'])\n",
    "\n",
    "plt.show()\n",
    "\n",
    "min_value=min(E1_qiskit)\n",
    "min_index = E1_qiskit.index(min_value)\n",
    "print('The minimum energy is E_g('+str(radius1[min_index])+')='+str(E1_qiskit[min_index])+' MJ/mol and is attained for R_min ='+str(radius1[min_index])+' pm')"
   ]
  },
  {
   "cell_type": "code",
   "execution_count": null,
   "metadata": {},
   "outputs": [],
   "source": []
  }
 ],
 "metadata": {
  "kernelspec": {
   "display_name": ".venv",
   "language": "python",
   "name": "python3"
  },
  "language_info": {
   "codemirror_mode": {
    "name": "ipython",
    "version": 3
   },
   "file_extension": ".py",
   "mimetype": "text/x-python",
   "name": "python",
   "nbconvert_exporter": "python",
   "pygments_lexer": "ipython3",
   "version": "3.12.6"
  }
 },
 "nbformat": 4,
 "nbformat_minor": 2
}
